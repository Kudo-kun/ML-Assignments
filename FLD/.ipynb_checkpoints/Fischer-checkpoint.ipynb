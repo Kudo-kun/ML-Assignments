{
 "cells": [
  {
   "cell_type": "code",
   "execution_count": 1,
   "metadata": {},
   "outputs": [],
   "source": [
    "import numpy as np\n",
    "import pandas as pd\n",
    "from math import sqrt, log\n",
    "import matplotlib.pyplot as plt\n",
    "import matplotlib.ticker as plticker"
   ]
  },
  {
   "cell_type": "code",
   "execution_count": 2,
   "metadata": {},
   "outputs": [],
   "source": [
    "def get_weights(cov, m1, m2):\n",
    "    W = np.dot(np.linalg.inv(cov), (m1-m2).T)\n",
    "    return W"
   ]
  },
  {
   "cell_type": "code",
   "execution_count": 3,
   "metadata": {},
   "outputs": [],
   "source": [
    "def get_covariance_matrix(X, Y=None):\n",
    "    if Y is None:\n",
    "        m = np.mean(X, axis=0)\n",
    "        temp = np.dot((X-m).T, (X-m))\n",
    "        return (temp / X.shape[0])\n",
    "    else:\n",
    "        cov = get_covariance_matrix(X) + \\\n",
    "              get_covariance_matrix(Y)\n",
    "        return cov  "
   ]
  },
  {
   "cell_type": "code",
   "execution_count": 4,
   "metadata": {},
   "outputs": [],
   "source": [
    "def get_gaussian_dist(X):\n",
    "    m = np.mean(X)\n",
    "    v = np.var(X)\n",
    "    Z = -((X-m)**2)/(2*v)\n",
    "    Y = (1/sqrt(2*np.pi*v)) * np.exp(Z)\n",
    "    return Y"
   ]
  },
  {
   "cell_type": "code",
   "execution_count": 5,
   "metadata": {},
   "outputs": [],
   "source": [
    "def quadratic_solver(a, b, c):\n",
    "    delta = ((b**2) - 4*a*c)\n",
    "    r1 = (-b + sqrt(delta))/(2*a)\n",
    "    r2 = (-b - sqrt(delta))/(2*a)\n",
    "    return (r1, r2)"
   ]
  },
  {
   "cell_type": "code",
   "execution_count": 6,
   "metadata": {},
   "outputs": [],
   "source": [
    "def gaussian_intersection_point(X1, X2):\n",
    "    m1 = np.mean(X1)\n",
    "    v1 = np.var(X1)\n",
    "    m2 = np.mean(X2)\n",
    "    v2 = np.var(X2)\n",
    "    \n",
    "    a = (1/v2 - 1/v1)\n",
    "    b = 2*(m1/v1 - m2/v2)\n",
    "    c = (((m2**2)/v2 - (m1**2)/v1) + log(v2/v1))\n",
    "    return quadratic_solver(a, b, c)"
   ]
  },
  {
   "cell_type": "code",
   "execution_count": 7,
   "metadata": {},
   "outputs": [],
   "source": [
    "def evaluate(pt, W, X):\n",
    "    cm = np.array([[0, 0], [0, 0]])\n",
    "    l = X.shape[1]\n",
    "    for row in X:\n",
    "        x = np.dot(row[:l-1], W.T)\n",
    "        y = int(row[-1])\n",
    "        y_hat = (0 if x <= pt else 1)\n",
    "        cm[y_hat][y] += 1\n",
    "\n",
    "    accuracy = ((cm[0][0] + cm[1][1]) / np.sum(cm)) * 100\n",
    "    recall = (cm[1][1] / (cm[1][1] + cm[0][1])) * 100\n",
    "    precision = (cm[1][1] / np.sum(cm[1])) * 100\n",
    "    fscore = 2 * ((precision * recall) / (precision + recall))\n",
    "    print(\"accuracy: {}\\nfscore: {}\".format(accuracy, fscore))"
   ]
  },
  {
   "cell_type": "code",
   "execution_count": 8,
   "metadata": {},
   "outputs": [],
   "source": [
    "mp = {\"a1_d2.txt\": [\"F0\", \"F1\", \"F2\", \"T\"], \n",
    "      \"a1_d1.txt\": [\"F0\", \"F1\", \"T\"]\n",
    "     }\n",
    "\n",
    "data = \"a1_d2.txt\"\n",
    "df = pd.read_csv(data, header=None, names=mp[data], sep=\",\")"
   ]
  },
  {
   "cell_type": "code",
   "execution_count": 9,
   "metadata": {},
   "outputs": [],
   "source": [
    "df_pos, df_neg = [x for _, x in df.groupby(df[\"T\"] == 0)]\n",
    "pos_classes = np.array(df_pos.drop(\"T\", 1))\n",
    "neg_classes = np.array(df_neg.drop(\"T\", 1))"
   ]
  },
  {
   "cell_type": "code",
   "execution_count": 10,
   "metadata": {},
   "outputs": [],
   "source": [
    "W = get_weights(cov=get_covariance_matrix(pos_classes, neg_classes), \n",
    "                m1=np.mean(pos_classes, axis=0),\n",
    "                m2=np.mean(neg_classes, axis=0))\n",
    "\n",
    "reduced_pc = np.sort(np.dot(pos_classes, W.T))\n",
    "reduced_nc = np.sort(np.dot(neg_classes, W.T))"
   ]
  },
  {
   "cell_type": "code",
   "execution_count": 11,
   "metadata": {},
   "outputs": [
    {
     "data": {
      "image/png": "[encoded data removed]",
      "text/plain": [
       "<Figure size 432x288 with 1 Axes>"
      ]
     },
     "metadata": {
      "needs_background": "light"
     },
     "output_type": "display_data"
    }
   ],
   "source": [
    "fig, ax = plt.subplots()\n",
    "loc = plticker.MultipleLocator(base=5.0)\n",
    "ax.plot(reduced_pc, np.zeros(len(reduced_pc)), color=\"red\", marker=\"+\")\n",
    "ax.plot(reduced_nc, np.zeros(len(reduced_nc)), color=\"blue\", marker=\"+\")\n",
    "ax.xaxis.set_major_locator(loc)\n",
    "plt.show()"
   ]
  },
  {
   "cell_type": "code",
   "execution_count": 12,
   "metadata": {},
   "outputs": [
    {
     "data": {
      "image/png": "[encoded data removed]",
      "text/plain": [
       "<Figure size 432x288 with 1 Axes>"
      ]
     },
     "metadata": {
      "needs_background": "light"
     },
     "output_type": "display_data"
    }
   ],
   "source": [
    "P, Q = gaussian_intersection_point(reduced_pc, reduced_nc)\n",
    "x, y = np.array([P]*6), np.linspace(0, 0.3, 6)\n",
    "\n",
    "fig, ax = plt.subplots()\n",
    "Yp = get_gaussian_dist(reduced_pc)\n",
    "Yn = get_gaussian_dist(reduced_nc)\n",
    "ax.plot(reduced_pc, Yp, color=\"red\")\n",
    "ax.plot(reduced_nc, Yn, color=\"blue\")\n",
    "ax.plot(x, y, color=\"green\")\n",
    "ax.xaxis.set_major_locator(loc)\n",
    "plt.show()"
   ]
  },
  {
   "cell_type": "code",
   "execution_count": 13,
   "metadata": {},
   "outputs": [
    {
     "name": "stdout",
     "output_type": "stream",
     "text": [
      "accuracy: 100.0\n",
      "fscore: 100.0\n"
     ]
    }
   ],
   "source": [
    "evaluate(P, W, np.array(df))"
   ]
  },
  {
   "cell_type": "code",
   "execution_count": null,
   "metadata": {},
   "outputs": [],
   "source": []
  }
 ],
 "metadata": {
  "kernelspec": {
   "display_name": "Python 3",
   "language": "python",
   "name": "python3"
  },
  "language_info": {
   "codemirror_mode": {
    "name": "ipython",
    "version": 3
   },
   "file_extension": ".py",
   "mimetype": "text/x-python",
   "name": "python",
   "nbconvert_exporter": "python",
   "pygments_lexer": "ipython3",
   "version": "3.8.2"
  }
 },
 "nbformat": 4,
 "nbformat_minor": 4
}
