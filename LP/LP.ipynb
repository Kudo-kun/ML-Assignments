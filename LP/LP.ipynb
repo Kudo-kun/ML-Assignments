{
 "cells": [
  {
   "cell_type": "code",
   "execution_count": 3,
   "id": "mature-denial",
   "metadata": {},
   "outputs": [],
   "source": [
    "import numpy as np\n",
    "import pandas as pd"
   ]
  },
  {
   "cell_type": "code",
   "execution_count": 7,
   "id": "entire-course",
   "metadata": {},
   "outputs": [],
   "source": [
    "class Perceptron:\n",
    "    \n",
    "    def __init__(self, fname, nfeatures):\n",
    "        self.nfeatures = nfeatures\n",
    "        names = [f\"F{i}\" for i in range(nfeatures)]\n",
    "        names.append('T')\n",
    "        df = pd.read_csv(fname, sep=',', names=names).sample(frac=1)\n",
    "        df['B'] = np.ones(len(df))\n",
    "        df['T'] = df['T'].replace(0, -1)\n",
    "        msk = np.random.randn(len(df)) <= 0.7\n",
    "        df_train = df[msk]\n",
    "        df_test = df[~msk]\n",
    "        self.ytrain = np.array(df_train['T'])\n",
    "        self.ytest = np.array(df_test['T'])\n",
    "        self.xtrain = np.array(df_train.drop('T', axis=1))\n",
    "        self.xtest = np.array(df_test.drop('T', axis=1))\n",
    "        self.nfeatures += 1\n",
    "        \n",
    "        \n",
    "    def predict(self, X):\n",
    "        ypred = np.dot(X, self.W)\n",
    "        ypred = np.array([1 if y >= 0 else -1 for y in ypred])\n",
    "        return ypred\n",
    "    \n",
    "    \n",
    "    def evaluate(self, Ypred, Y):\n",
    "        return (np.sum(Ypred == Y)/len(Y))\n",
    "        \n",
    "        \n",
    "    def train(self):\n",
    "        max_iter = 500\n",
    "        self.W = np.zeros(self.nfeatures)\n",
    "        for _ in range(max_iter):\n",
    "            misclassified = 0\n",
    "            ypred = self.predict(self.xtrain)\n",
    "            for (x, y1, y2) in zip(self.xtrain, self.ytrain, ypred):\n",
    "                if y1 != y2:\n",
    "                    self.W += (y1 * x)\n",
    "                    misclassified += 1\n",
    "            if not misclassified:\n",
    "                break\n",
    "            \n",
    "        train_acc = self.evaluate(self.predict(self.xtrain), self.ytrain)\n",
    "        print(\"train accuracy %.3f\" % train_acc)\n",
    "       \n",
    "    \n",
    "    def test(self):\n",
    "        test_acc = self.evaluate(self.predict(self.xtest), self.ytest)\n",
    "        print(\"test accuracy %.3f\" % test_acc)                "
   ]
  },
  {
   "cell_type": "code",
   "execution_count": 8,
   "id": "circular-mission",
   "metadata": {},
   "outputs": [
    {
     "name": "stdout",
     "output_type": "stream",
     "text": [
      "train accuracy 0.993\n",
      "test accuracy 0.985\n"
     ]
    }
   ],
   "source": [
    "lp = Perceptron(\"dataset_LP_1.csv\", nfeatures=4)\n",
    "lp.train()\n",
    "lp.test()"
   ]
  },
  {
   "cell_type": "code",
   "execution_count": 9,
   "id": "missing-dairy",
   "metadata": {},
   "outputs": [
    {
     "name": "stdout",
     "output_type": "stream",
     "text": [
      "train accuracy 1.000\n",
      "test accuracy 0.992\n"
     ]
    }
   ],
   "source": [
    "lp = Perceptron(\"dataset_LP_2.csv\", nfeatures=3)\n",
    "lp.train()\n",
    "lp.test()"
   ]
  },
  {
   "cell_type": "code",
   "execution_count": null,
   "id": "referenced-humidity",
   "metadata": {},
   "outputs": [],
   "source": []
  }
 ],
 "metadata": {
  "kernelspec": {
   "display_name": "Python 3",
   "language": "python",
   "name": "python3"
  },
  "language_info": {
   "codemirror_mode": {
    "name": "ipython",
    "version": 3
   },
   "file_extension": ".py",
   "mimetype": "text/x-python",
   "name": "python",
   "nbconvert_exporter": "python",
   "pygments_lexer": "ipython3",
   "version": "3.8.6"
  }
 },
 "nbformat": 4,
 "nbformat_minor": 5
}
