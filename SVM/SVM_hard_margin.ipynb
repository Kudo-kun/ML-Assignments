{
 "cells": [
  {
   "cell_type": "code",
   "execution_count": 166,
   "metadata": {},
   "outputs": [],
   "source": [
    "import pandas as pd\n",
    "import numpy as np\n",
    "import matplotlib.pyplot as plt"
   ]
  },
  {
   "cell_type": "code",
   "execution_count": 167,
   "metadata": {},
   "outputs": [],
   "source": [
    "class SVM:\n",
    "    def __init__(self, nfeatures):\n",
    "        self.nfeatures = nfeatures\n",
    "        self.weights = np.random.randn(nfeatures)\n",
    "        self.weights = np.resize(self.weights, (nfeatures, 1))\n",
    "        \n",
    "    def _compute_cost_grads(self, lambd, x, y):\n",
    "        grad = (lambd * self.weights)\n",
    "        loss = (1 - (y * np.dot(x, self.weights)))[0]\n",
    "        if loss < 0:\n",
    "            loss = 0\n",
    "            grad -= np.resize(y*x, (self.nfeatures, 1))\n",
    "        loss += (0.5 * lambd * np.sum(self.weights ** 2))\n",
    "        return (loss, grad)\n",
    "\n",
    "    def fit(self, X, Y, lr=0.01, kernel=\"rbf\", lambd=0.1, epochs=10):\n",
    "        errors = []\n",
    "        for _ in range(epochs):\n",
    "            i = np.random.randint(0, len(X))\n",
    "            loss, grad = self._compute_cost_grads(lambd, X, Y)\n",
    "            self.weights -= lr * grad\n",
    "            errors.append(loss)\n",
    "            #print(loss)\n",
    "        plt.plot(range(epochs), errors)\n",
    "        plt.show()"
   ]
  },
  {
   "cell_type": "code",
   "execution_count": 168,
   "metadata": {},
   "outputs": [],
   "source": [
    "columns = [\"F1\", \"F2\", \"F3\", \"F4\", \"T\"]\n",
    "raw_df = pd.read_csv(\"data.txt\", header=None, names=columns, sep=\",\")\n",
    "raw_df.insert(0, \"F0\", np.ones(len(raw_df)), True) \n",
    "raw_df = raw_df.sample(n=len(raw_df), random_state=23)\n",
    "Y = np.array(raw_df[\"T\"])\n",
    "for i in range(len(Y)):\n",
    "    Y[i] = (-1 if Y[i] == 0 else 1)\n",
    "Y = np.resize(Y, (Y.shape[0], 1))\n",
    "X = np.array(raw_df[[\"F0\", \"F1\", \"F2\", \"F3\", \"F4\"]])"
   ]
  },
  {
   "cell_type": "code",
   "execution_count": 169,
   "metadata": {},
   "outputs": [
    {
     "data": {
      "image/png": "[encoded data removed]",
      "text/plain": [
       "<Figure size 432x288 with 1 Axes>"
      ]
     },
     "metadata": {
      "needs_background": "light"
     },
     "output_type": "display_data"
    }
   ],
   "source": [
    "model = SVM(X.shape[1])\n",
    "model.fit(X, Y, lr=0.01, epochs=10000)"
   ]
  },
  {
   "cell_type": "code",
   "execution_count": null,
   "metadata": {},
   "outputs": [],
   "source": []
  },
  {
   "cell_type": "code",
   "execution_count": null,
   "metadata": {},
   "outputs": [],
   "source": []
  }
 ],
 "metadata": {
  "kernelspec": {
   "display_name": "Python 3",
   "language": "python",
   "name": "python3"
  },
  "language_info": {
   "codemirror_mode": {
    "name": "ipython",
    "version": 3
   },
   "file_extension": ".py",
   "mimetype": "text/x-python",
   "name": "python",
   "nbconvert_exporter": "python",
   "pygments_lexer": "ipython3",
   "version": "3.8.2"
  }
 },
 "nbformat": 4,
 "nbformat_minor": 4
}
